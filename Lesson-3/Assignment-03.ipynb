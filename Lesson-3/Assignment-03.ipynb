{
 "cells": [
  {
   "cell_type": "markdown",
   "metadata": {},
   "source": [
    "# Lecture-03 Gradient Descent and Dymanic Programming"
   ]
  },
  {
   "cell_type": "markdown",
   "metadata": {},
   "source": [
    "## Part 1 Review the online programming."
   ]
  },
  {
   "cell_type": "markdown",
   "metadata": {},
   "source": [
    "### Part 1-1 Review Gradient Descent"
   ]
  },
  {
   "cell_type": "code",
   "execution_count": 1,
   "metadata": {},
   "outputs": [],
   "source": [
    "import numpy as np\n",
    "from sklearn.datasets import load_boston"
   ]
  },
  {
   "cell_type": "code",
   "execution_count": 2,
   "metadata": {},
   "outputs": [],
   "source": [
    "dataset = load_boston()"
   ]
  },
  {
   "cell_type": "code",
   "execution_count": 3,
   "metadata": {},
   "outputs": [
    {
     "data": {
      "text/plain": [
       "{'data': array([[6.3200e-03, 1.8000e+01, 2.3100e+00, ..., 1.5300e+01, 3.9690e+02,\n",
       "         4.9800e+00],\n",
       "        [2.7310e-02, 0.0000e+00, 7.0700e+00, ..., 1.7800e+01, 3.9690e+02,\n",
       "         9.1400e+00],\n",
       "        [2.7290e-02, 0.0000e+00, 7.0700e+00, ..., 1.7800e+01, 3.9283e+02,\n",
       "         4.0300e+00],\n",
       "        ...,\n",
       "        [6.0760e-02, 0.0000e+00, 1.1930e+01, ..., 2.1000e+01, 3.9690e+02,\n",
       "         5.6400e+00],\n",
       "        [1.0959e-01, 0.0000e+00, 1.1930e+01, ..., 2.1000e+01, 3.9345e+02,\n",
       "         6.4800e+00],\n",
       "        [4.7410e-02, 0.0000e+00, 1.1930e+01, ..., 2.1000e+01, 3.9690e+02,\n",
       "         7.8800e+00]]),\n",
       " 'target': array([24. , 21.6, 34.7, 33.4, 36.2, 28.7, 22.9, 27.1, 16.5, 18.9, 15. ,\n",
       "        18.9, 21.7, 20.4, 18.2, 19.9, 23.1, 17.5, 20.2, 18.2, 13.6, 19.6,\n",
       "        15.2, 14.5, 15.6, 13.9, 16.6, 14.8, 18.4, 21. , 12.7, 14.5, 13.2,\n",
       "        13.1, 13.5, 18.9, 20. , 21. , 24.7, 30.8, 34.9, 26.6, 25.3, 24.7,\n",
       "        21.2, 19.3, 20. , 16.6, 14.4, 19.4, 19.7, 20.5, 25. , 23.4, 18.9,\n",
       "        35.4, 24.7, 31.6, 23.3, 19.6, 18.7, 16. , 22.2, 25. , 33. , 23.5,\n",
       "        19.4, 22. , 17.4, 20.9, 24.2, 21.7, 22.8, 23.4, 24.1, 21.4, 20. ,\n",
       "        20.8, 21.2, 20.3, 28. , 23.9, 24.8, 22.9, 23.9, 26.6, 22.5, 22.2,\n",
       "        23.6, 28.7, 22.6, 22. , 22.9, 25. , 20.6, 28.4, 21.4, 38.7, 43.8,\n",
       "        33.2, 27.5, 26.5, 18.6, 19.3, 20.1, 19.5, 19.5, 20.4, 19.8, 19.4,\n",
       "        21.7, 22.8, 18.8, 18.7, 18.5, 18.3, 21.2, 19.2, 20.4, 19.3, 22. ,\n",
       "        20.3, 20.5, 17.3, 18.8, 21.4, 15.7, 16.2, 18. , 14.3, 19.2, 19.6,\n",
       "        23. , 18.4, 15.6, 18.1, 17.4, 17.1, 13.3, 17.8, 14. , 14.4, 13.4,\n",
       "        15.6, 11.8, 13.8, 15.6, 14.6, 17.8, 15.4, 21.5, 19.6, 15.3, 19.4,\n",
       "        17. , 15.6, 13.1, 41.3, 24.3, 23.3, 27. , 50. , 50. , 50. , 22.7,\n",
       "        25. , 50. , 23.8, 23.8, 22.3, 17.4, 19.1, 23.1, 23.6, 22.6, 29.4,\n",
       "        23.2, 24.6, 29.9, 37.2, 39.8, 36.2, 37.9, 32.5, 26.4, 29.6, 50. ,\n",
       "        32. , 29.8, 34.9, 37. , 30.5, 36.4, 31.1, 29.1, 50. , 33.3, 30.3,\n",
       "        34.6, 34.9, 32.9, 24.1, 42.3, 48.5, 50. , 22.6, 24.4, 22.5, 24.4,\n",
       "        20. , 21.7, 19.3, 22.4, 28.1, 23.7, 25. , 23.3, 28.7, 21.5, 23. ,\n",
       "        26.7, 21.7, 27.5, 30.1, 44.8, 50. , 37.6, 31.6, 46.7, 31.5, 24.3,\n",
       "        31.7, 41.7, 48.3, 29. , 24. , 25.1, 31.5, 23.7, 23.3, 22. , 20.1,\n",
       "        22.2, 23.7, 17.6, 18.5, 24.3, 20.5, 24.5, 26.2, 24.4, 24.8, 29.6,\n",
       "        42.8, 21.9, 20.9, 44. , 50. , 36. , 30.1, 33.8, 43.1, 48.8, 31. ,\n",
       "        36.5, 22.8, 30.7, 50. , 43.5, 20.7, 21.1, 25.2, 24.4, 35.2, 32.4,\n",
       "        32. , 33.2, 33.1, 29.1, 35.1, 45.4, 35.4, 46. , 50. , 32.2, 22. ,\n",
       "        20.1, 23.2, 22.3, 24.8, 28.5, 37.3, 27.9, 23.9, 21.7, 28.6, 27.1,\n",
       "        20.3, 22.5, 29. , 24.8, 22. , 26.4, 33.1, 36.1, 28.4, 33.4, 28.2,\n",
       "        22.8, 20.3, 16.1, 22.1, 19.4, 21.6, 23.8, 16.2, 17.8, 19.8, 23.1,\n",
       "        21. , 23.8, 23.1, 20.4, 18.5, 25. , 24.6, 23. , 22.2, 19.3, 22.6,\n",
       "        19.8, 17.1, 19.4, 22.2, 20.7, 21.1, 19.5, 18.5, 20.6, 19. , 18.7,\n",
       "        32.7, 16.5, 23.9, 31.2, 17.5, 17.2, 23.1, 24.5, 26.6, 22.9, 24.1,\n",
       "        18.6, 30.1, 18.2, 20.6, 17.8, 21.7, 22.7, 22.6, 25. , 19.9, 20.8,\n",
       "        16.8, 21.9, 27.5, 21.9, 23.1, 50. , 50. , 50. , 50. , 50. , 13.8,\n",
       "        13.8, 15. , 13.9, 13.3, 13.1, 10.2, 10.4, 10.9, 11.3, 12.3,  8.8,\n",
       "         7.2, 10.5,  7.4, 10.2, 11.5, 15.1, 23.2,  9.7, 13.8, 12.7, 13.1,\n",
       "        12.5,  8.5,  5. ,  6.3,  5.6,  7.2, 12.1,  8.3,  8.5,  5. , 11.9,\n",
       "        27.9, 17.2, 27.5, 15. , 17.2, 17.9, 16.3,  7. ,  7.2,  7.5, 10.4,\n",
       "         8.8,  8.4, 16.7, 14.2, 20.8, 13.4, 11.7,  8.3, 10.2, 10.9, 11. ,\n",
       "         9.5, 14.5, 14.1, 16.1, 14.3, 11.7, 13.4,  9.6,  8.7,  8.4, 12.8,\n",
       "        10.5, 17.1, 18.4, 15.4, 10.8, 11.8, 14.9, 12.6, 14.1, 13. , 13.4,\n",
       "        15.2, 16.1, 17.8, 14.9, 14.1, 12.7, 13.5, 14.9, 20. , 16.4, 17.7,\n",
       "        19.5, 20.2, 21.4, 19.9, 19. , 19.1, 19.1, 20.1, 19.9, 19.6, 23.2,\n",
       "        29.8, 13.8, 13.3, 16.7, 12. , 14.6, 21.4, 23. , 23.7, 25. , 21.8,\n",
       "        20.6, 21.2, 19.1, 20.6, 15.2,  7. ,  8.1, 13.6, 20.1, 21.8, 24.5,\n",
       "        23.1, 19.7, 18.3, 21.2, 17.5, 16.8, 22.4, 20.6, 23.9, 22. , 11.9]),\n",
       " 'feature_names': array(['CRIM', 'ZN', 'INDUS', 'CHAS', 'NOX', 'RM', 'AGE', 'DIS', 'RAD',\n",
       "        'TAX', 'PTRATIO', 'B', 'LSTAT'], dtype='<U7'),\n",
       " 'DESCR': \"Boston House Prices dataset\\n===========================\\n\\nNotes\\n------\\nData Set Characteristics:  \\n\\n    :Number of Instances: 506 \\n\\n    :Number of Attributes: 13 numeric/categorical predictive\\n    \\n    :Median Value (attribute 14) is usually the target\\n\\n    :Attribute Information (in order):\\n        - CRIM     per capita crime rate by town\\n        - ZN       proportion of residential land zoned for lots over 25,000 sq.ft.\\n        - INDUS    proportion of non-retail business acres per town\\n        - CHAS     Charles River dummy variable (= 1 if tract bounds river; 0 otherwise)\\n        - NOX      nitric oxides concentration (parts per 10 million)\\n        - RM       average number of rooms per dwelling\\n        - AGE      proportion of owner-occupied units built prior to 1940\\n        - DIS      weighted distances to five Boston employment centres\\n        - RAD      index of accessibility to radial highways\\n        - TAX      full-value property-tax rate per $10,000\\n        - PTRATIO  pupil-teacher ratio by town\\n        - B        1000(Bk - 0.63)^2 where Bk is the proportion of blacks by town\\n        - LSTAT    % lower status of the population\\n        - MEDV     Median value of owner-occupied homes in $1000's\\n\\n    :Missing Attribute Values: None\\n\\n    :Creator: Harrison, D. and Rubinfeld, D.L.\\n\\nThis is a copy of UCI ML housing dataset.\\nhttp://archive.ics.uci.edu/ml/datasets/Housing\\n\\n\\nThis dataset was taken from the StatLib library which is maintained at Carnegie Mellon University.\\n\\nThe Boston house-price data of Harrison, D. and Rubinfeld, D.L. 'Hedonic\\nprices and the demand for clean air', J. Environ. Economics & Management,\\nvol.5, 81-102, 1978.   Used in Belsley, Kuh & Welsch, 'Regression diagnostics\\n...', Wiley, 1980.   N.B. Various transformations are used in the table on\\npages 244-261 of the latter.\\n\\nThe Boston house-price data has been used in many machine learning papers that address regression\\nproblems.   \\n     \\n**References**\\n\\n   - Belsley, Kuh & Welsch, 'Regression diagnostics: Identifying Influential Data and Sources of Collinearity', Wiley, 1980. 244-261.\\n   - Quinlan,R. (1993). Combining Instance-Based and Model-Based Learning. In Proceedings on the Tenth International Conference of Machine Learning, 236-243, University of Massachusetts, Amherst. Morgan Kaufmann.\\n   - many more! (see http://archive.ics.uci.edu/ml/datasets/Housing)\\n\"}"
      ]
     },
     "execution_count": 3,
     "metadata": {},
     "output_type": "execute_result"
    }
   ],
   "source": [
    "dataset"
   ]
  },
  {
   "cell_type": "code",
   "execution_count": 4,
   "metadata": {},
   "outputs": [],
   "source": [
    "X, y = dataset['data'], dataset['target']"
   ]
  },
  {
   "cell_type": "code",
   "execution_count": 5,
   "metadata": {},
   "outputs": [],
   "source": [
    "import matplotlib.pyplot as plt"
   ]
  },
  {
   "cell_type": "code",
   "execution_count": 6,
   "metadata": {},
   "outputs": [],
   "source": [
    "%matplotlib inline"
   ]
  },
  {
   "cell_type": "code",
   "execution_count": 7,
   "metadata": {},
   "outputs": [],
   "source": [
    "def draw_rm_and_price():  # rm: average number of rooms per dwelling.\n",
    "    plt.scatter(X[:, 5], y)"
   ]
  },
  {
   "cell_type": "code",
   "execution_count": 8,
   "metadata": {},
   "outputs": [
    {
     "data": {
      "image/png": "[encoded data removed]",
      "text/plain": [
       "<Figure size 432x288 with 1 Axes>"
      ]
     },
     "metadata": {},
     "output_type": "display_data"
    }
   ],
   "source": [
    "draw_rm_and_price()"
   ]
  },
  {
   "cell_type": "code",
   "execution_count": 37,
   "metadata": {},
   "outputs": [],
   "source": [
    "def price(rm, k, b):\n",
    "    \"\"\"f(x) = k * x + b\"\"\"\n",
    "    return k * rm + b"
   ]
  },
  {
   "cell_type": "code",
   "execution_count": 10,
   "metadata": {},
   "outputs": [],
   "source": [
    "def loss(y, y_hat):\n",
    "    \"\"\"\n",
    "    :param y: the real fares\n",
    "    :param y_hat: the estimated fares\n",
    "    :return: how good is the estimated fares\n",
    "    \"\"\"\n",
    "    return sum((y_i - y_hat_i)**2 for y_i, y_hat_i in zip(list(y), list(y_hat))) / len(list(y))"
   ]
  },
  {
   "cell_type": "code",
   "execution_count": 11,
   "metadata": {},
   "outputs": [],
   "source": [
    "def partial_k(X, y, y_hat):\n",
    "    n = len(y)\n",
    "\n",
    "    gradient = 0\n",
    "    \n",
    "    for X_i, y_i, y_hat_i in zip(list(X), list(y), list(y_hat)):\n",
    "        gradient += (y_i - y_hat_i) * X_i\n",
    "    \n",
    "    return -2 / n * gradient\n",
    "\n",
    "def partial_b(x, y, y_hat):\n",
    "    n = len(y)\n",
    "\n",
    "    gradient = 0\n",
    "    \n",
    "    for y_i, y_hat_i in zip(list(y), list(y_hat)):\n",
    "        gradient += (y_i - y_hat_i)\n",
    "    \n",
    "    return -2 / n * gradient"
   ]
  },
  {
   "cell_type": "code",
   "execution_count": 15,
   "metadata": {},
   "outputs": [
    {
     "name": "stdout",
     "output_type": "stream",
     "text": [
      "When time is : 0, get best_k: -82.92165953826034 best_b: -49.78581678433407, and the loss is: 356399.9414530575\n",
      "When time is : 100, get best_k: -31.25400185901691 best_b: -41.66324310821755, and the loss is: 68766.72380725319\n",
      "When time is : 200, get best_k: -8.564356751062213 best_b: -38.09615995526327, and the loss is: 13296.820075357457\n",
      "When time is : 300, get best_k: 1.3997025801538858 best_b: -36.52960343863942, and the loss is: 2599.480436863543\n",
      "When time is : 400, get best_k: 5.775368542074874 best_b: -35.84157072855405, and the loss is: 536.5045214912708\n",
      "When time is : 500, get best_k: 7.696912471824576 best_b: -35.53933848102718, and the loss is: 138.66077830520004\n",
      "When time is : 600, get best_k: 8.540737898116562 best_b: -35.406529083400635, and the loss is: 61.936834998663684\n",
      "When time is : 700, get best_k: 8.911287279845373 best_b: -35.34812111679306, and the loss is: 47.14066391246821\n",
      "When time is : 800, get best_k: 9.07399926090589 best_b: -35.322386280684285, and the loss is: 44.28722875800644\n",
      "When time is : 900, get best_k: 9.145440228446635 best_b: -35.31099974805047, and the loss is: 43.736943490375864\n",
      "When time is : 1000, get best_k: 9.176799875171591 best_b: -35.30591423967378, and the loss is: 43.63081937981819\n",
      "When time is : 1100, get best_k: 9.190557963070281 best_b: -35.30359582299512, and the loss is: 43.61035149870727\n",
      "When time is : 1200, get best_k: 9.196586395496489 best_b: -35.30249258475081, and the loss is: 43.60640237403144\n",
      "When time is : 1300, get best_k: 9.199220381864887 best_b: -35.30192300803368, and the loss is: 43.60563888312977\n",
      "When time is : 1400, get best_k: 9.200363713166054 best_b: -35.30158780723948, and the loss is: 43.60548974081973\n",
      "When time is : 1500, get best_k: 9.200852432088416 best_b: -35.30135555221007, and the loss is: 43.60545907620419\n",
      "When time is : 1600, get best_k: 9.201053683649205 best_b: -35.301168525878474, and the loss is: 43.60545126086007\n",
      "When time is : 1700, get best_k: 9.20112869820806 best_b: -35.30100138200571, and the loss is: 43.60544785289938\n",
      "When time is : 1800, get best_k: 9.201148279473271 best_b: -35.300842989880934, and the loss is: 43.60544529581406\n",
      "When time is : 1900, get best_k: 9.201143520627612 best_b: -35.30068846148924, and the loss is: 43.60544290373313\n"
     ]
    }
   ],
   "source": [
    "import random\n",
    "\n",
    "X_rm = X[:, 5]\n",
    "\n",
    "min_loss = float('inf')\n",
    "\n",
    "current_k = random.random() * 200 - 100\n",
    "current_b = random.random() * 200 - 100\n",
    "\n",
    "learning_rate = 1e-04\n",
    "\n",
    "trying_times = 2000\n",
    "\n",
    "for i in range(trying_times):\n",
    "    price_by_k_and_b = [price(r, current_k, current_b) for r in X_rm]\n",
    "    \n",
    "    current_loss = loss(y, price_by_k_and_b)\n",
    "    \n",
    "    if current_loss < min_loss:  # performance became better\n",
    "        min_loss = current_loss\n",
    "        \n",
    "    if i % 100 == 0:\n",
    "        print('When time is : {}, get best_k: {} best_b: {}, and the loss is: {}'.format(i, current_k, current_b, min_loss))\n",
    "    \n",
    "    k_gradient = partial_k(X_rm, y, price_by_k_and_b)\n",
    "    b_gradient = partial_b(X_rm, y, price_by_k_and_b)\n",
    "    \n",
    "    current_k = current_k + (-1 * k_gradient) * learning_rate\n",
    "    current_b = current_b + (-1 * b_gradient) * learning_rate"
   ]
  },
  {
   "cell_type": "code",
   "execution_count": 16,
   "metadata": {},
   "outputs": [
    {
     "data": {
      "text/plain": [
       "<matplotlib.collections.PathCollection at 0x11a05db70>"
      ]
     },
     "execution_count": 16,
     "metadata": {},
     "output_type": "execute_result"
    },
    {
     "data": {
      "image/png": "[encoded data removed]",
      "text/plain": [
       "<Figure size 432x288 with 1 Axes>"
      ]
     },
     "metadata": {},
     "output_type": "display_data"
    }
   ],
   "source": [
    "k = 9.201143520627612\n",
    "b = -35.30068846148924\n",
    "price_by_k_and_b = [price(r, k, b) for r in X_rm]\n",
    "\n",
    "draw_rm_and_price()\n",
    "plt.scatter(X_rm, price_by_k_and_b)"
   ]
  },
  {
   "cell_type": "markdown",
   "metadata": {},
   "source": [
    "### Part 1-2 Dymanic Programming"
   ]
  },
  {
   "cell_type": "code",
   "execution_count": 17,
   "metadata": {},
   "outputs": [],
   "source": [
    "from collections import defaultdict"
   ]
  },
  {
   "cell_type": "code",
   "execution_count": 18,
   "metadata": {},
   "outputs": [],
   "source": [
    "original_price = [1, 5, 8, 9, 10, 17, 17, 20, 24, 30, 35]\n",
    "\n",
    "price = defaultdict(int)\n",
    "\n",
    "for i, p in enumerate(original_price):\n",
    "    price[i+1] = p\n",
    "    \n",
    "assert price[1] == 1"
   ]
  },
  {
   "cell_type": "markdown",
   "metadata": {},
   "source": [
    "### Get the max splitting by enumerate"
   ]
  },
  {
   "cell_type": "code",
   "execution_count": 19,
   "metadata": {},
   "outputs": [],
   "source": [
    "from functools import wraps"
   ]
  },
  {
   "cell_type": "code",
   "execution_count": 20,
   "metadata": {},
   "outputs": [],
   "source": [
    "called_time_with_arg = defaultdict(int)"
   ]
  },
  {
   "cell_type": "code",
   "execution_count": 21,
   "metadata": {},
   "outputs": [],
   "source": [
    "def get_call_times(f):\n",
    "    \"\"\"@param f is a function\"\"\"\n",
    "    \n",
    "    @wraps(f)\n",
    "    def wrap(n):\n",
    "        result = f(n)\n",
    "        called_time_with_arg[(f.__name__, n)] += 1\n",
    "        return result\n",
    "    \n",
    "    return wrap"
   ]
  },
  {
   "cell_type": "code",
   "execution_count": 22,
   "metadata": {},
   "outputs": [],
   "source": [
    "@get_call_times\n",
    "def r(n):\n",
    "    \"\"\"\n",
    "    Args: n is the iron length\n",
    "    Return: the max revenue\n",
    "    \"\"\"\n",
    "    return max([price[n]] + [r(i) + r(n-i) for i in range(1, n)])"
   ]
  },
  {
   "cell_type": "code",
   "execution_count": 23,
   "metadata": {},
   "outputs": [
    {
     "name": "stdout",
     "output_type": "stream",
     "text": [
      "Help on function r in module __main__:\n",
      "\n",
      "r(n)\n",
      "    Args: n is the iron length\n",
      "    Return: the max revenue\n",
      "\n"
     ]
    }
   ],
   "source": [
    "help(r)"
   ]
  },
  {
   "cell_type": "code",
   "execution_count": 24,
   "metadata": {},
   "outputs": [
    {
     "data": {
      "text/plain": [
       "defaultdict(int, {})"
      ]
     },
     "execution_count": 24,
     "metadata": {},
     "output_type": "execute_result"
    }
   ],
   "source": [
    "called_time_with_arg"
   ]
  },
  {
   "cell_type": "code",
   "execution_count": 25,
   "metadata": {},
   "outputs": [],
   "source": [
    "def memo(f):\n",
    "    \n",
    "    memo.already_computted = {}\n",
    "    \n",
    "    @wraps(f)\n",
    "    def _wrap(arg):\n",
    "        result = None\n",
    "        \n",
    "        if arg in memo.already_computted:\n",
    "            result = memo.already_computted[arg]\n",
    "        else:\n",
    "            result = f(arg)\n",
    "            memo.already_computted[arg] = result\n",
    "            \n",
    "        return result\n",
    "    \n",
    "    return _wrap"
   ]
  },
  {
   "cell_type": "code",
   "execution_count": 26,
   "metadata": {},
   "outputs": [],
   "source": [
    "solution = {}"
   ]
  },
  {
   "cell_type": "code",
   "execution_count": 27,
   "metadata": {},
   "outputs": [],
   "source": [
    "@get_call_times\n",
    "@memo\n",
    "def r(n):\n",
    "    \"\"\"\n",
    "    Args: n is the iron length\n",
    "    Return: the max revenue\n",
    "    \"\"\"\n",
    "    max_price, max_split = max(\n",
    "        [(price[n], 0)] + [(r(i) + r(n-i), i) for i in range(1, n)], key=lambda x: x[0]\n",
    "    )\n",
    "    \n",
    "    solution[n] = (n - max_split, max_split)\n",
    "    \n",
    "    return max_price"
   ]
  },
  {
   "cell_type": "code",
   "execution_count": 28,
   "metadata": {},
   "outputs": [
    {
     "data": {
      "text/plain": [
       "316"
      ]
     },
     "execution_count": 28,
     "metadata": {},
     "output_type": "execute_result"
    }
   ],
   "source": [
    "r(100)"
   ]
  },
  {
   "cell_type": "code",
   "execution_count": 29,
   "metadata": {},
   "outputs": [
    {
     "data": {
      "text/plain": [
       "defaultdict(int,\n",
       "            {('r', 1): 198,\n",
       "             ('r', 2): 196,\n",
       "             ('r', 3): 194,\n",
       "             ('r', 4): 192,\n",
       "             ('r', 5): 190,\n",
       "             ('r', 6): 188,\n",
       "             ('r', 7): 186,\n",
       "             ('r', 8): 184,\n",
       "             ('r', 9): 182,\n",
       "             ('r', 10): 180,\n",
       "             ('r', 11): 178,\n",
       "             ('r', 12): 176,\n",
       "             ('r', 13): 174,\n",
       "             ('r', 14): 172,\n",
       "             ('r', 15): 170,\n",
       "             ('r', 16): 168,\n",
       "             ('r', 17): 166,\n",
       "             ('r', 18): 164,\n",
       "             ('r', 19): 162,\n",
       "             ('r', 20): 160,\n",
       "             ('r', 21): 158,\n",
       "             ('r', 22): 156,\n",
       "             ('r', 23): 154,\n",
       "             ('r', 24): 152,\n",
       "             ('r', 25): 150,\n",
       "             ('r', 26): 148,\n",
       "             ('r', 27): 146,\n",
       "             ('r', 28): 144,\n",
       "             ('r', 29): 142,\n",
       "             ('r', 30): 140,\n",
       "             ('r', 31): 138,\n",
       "             ('r', 32): 136,\n",
       "             ('r', 33): 134,\n",
       "             ('r', 34): 132,\n",
       "             ('r', 35): 130,\n",
       "             ('r', 36): 128,\n",
       "             ('r', 37): 126,\n",
       "             ('r', 38): 124,\n",
       "             ('r', 39): 122,\n",
       "             ('r', 40): 120,\n",
       "             ('r', 41): 118,\n",
       "             ('r', 42): 116,\n",
       "             ('r', 43): 114,\n",
       "             ('r', 44): 112,\n",
       "             ('r', 45): 110,\n",
       "             ('r', 46): 108,\n",
       "             ('r', 47): 106,\n",
       "             ('r', 48): 104,\n",
       "             ('r', 49): 102,\n",
       "             ('r', 50): 100,\n",
       "             ('r', 51): 98,\n",
       "             ('r', 52): 96,\n",
       "             ('r', 53): 94,\n",
       "             ('r', 54): 92,\n",
       "             ('r', 55): 90,\n",
       "             ('r', 56): 88,\n",
       "             ('r', 57): 86,\n",
       "             ('r', 58): 84,\n",
       "             ('r', 59): 82,\n",
       "             ('r', 60): 80,\n",
       "             ('r', 61): 78,\n",
       "             ('r', 62): 76,\n",
       "             ('r', 63): 74,\n",
       "             ('r', 64): 72,\n",
       "             ('r', 65): 70,\n",
       "             ('r', 66): 68,\n",
       "             ('r', 67): 66,\n",
       "             ('r', 68): 64,\n",
       "             ('r', 69): 62,\n",
       "             ('r', 70): 60,\n",
       "             ('r', 71): 58,\n",
       "             ('r', 72): 56,\n",
       "             ('r', 73): 54,\n",
       "             ('r', 74): 52,\n",
       "             ('r', 75): 50,\n",
       "             ('r', 76): 48,\n",
       "             ('r', 77): 46,\n",
       "             ('r', 78): 44,\n",
       "             ('r', 79): 42,\n",
       "             ('r', 80): 40,\n",
       "             ('r', 81): 38,\n",
       "             ('r', 82): 36,\n",
       "             ('r', 83): 34,\n",
       "             ('r', 84): 32,\n",
       "             ('r', 85): 30,\n",
       "             ('r', 86): 28,\n",
       "             ('r', 87): 26,\n",
       "             ('r', 88): 24,\n",
       "             ('r', 89): 22,\n",
       "             ('r', 90): 20,\n",
       "             ('r', 91): 18,\n",
       "             ('r', 92): 16,\n",
       "             ('r', 93): 14,\n",
       "             ('r', 94): 12,\n",
       "             ('r', 95): 10,\n",
       "             ('r', 96): 8,\n",
       "             ('r', 97): 6,\n",
       "             ('r', 98): 4,\n",
       "             ('r', 99): 2,\n",
       "             ('r', 100): 1})"
      ]
     },
     "execution_count": 29,
     "metadata": {},
     "output_type": "execute_result"
    }
   ],
   "source": [
    "called_time_with_arg"
   ]
  },
  {
   "cell_type": "code",
   "execution_count": 30,
   "metadata": {},
   "outputs": [
    {
     "data": {
      "text/plain": [
       "{1: 1,\n",
       " 2: 5,\n",
       " 3: 8,\n",
       " 4: 10,\n",
       " 5: 13,\n",
       " 6: 17,\n",
       " 7: 18,\n",
       " 8: 22,\n",
       " 9: 25,\n",
       " 10: 30,\n",
       " 11: 35,\n",
       " 12: 36,\n",
       " 13: 40,\n",
       " 14: 43,\n",
       " 15: 45,\n",
       " 16: 48,\n",
       " 17: 52,\n",
       " 18: 53,\n",
       " 19: 57,\n",
       " 20: 60,\n",
       " 21: 65,\n",
       " 22: 70,\n",
       " 23: 71,\n",
       " 24: 75,\n",
       " 25: 78,\n",
       " 26: 80,\n",
       " 27: 83,\n",
       " 28: 87,\n",
       " 29: 88,\n",
       " 30: 92,\n",
       " 31: 95,\n",
       " 32: 100,\n",
       " 33: 105,\n",
       " 34: 106,\n",
       " 35: 110,\n",
       " 36: 113,\n",
       " 37: 115,\n",
       " 38: 118,\n",
       " 39: 122,\n",
       " 40: 123,\n",
       " 41: 127,\n",
       " 42: 130,\n",
       " 43: 135,\n",
       " 44: 140,\n",
       " 45: 141,\n",
       " 46: 145,\n",
       " 47: 148,\n",
       " 48: 150,\n",
       " 49: 153,\n",
       " 50: 157,\n",
       " 51: 158,\n",
       " 52: 162,\n",
       " 53: 165,\n",
       " 54: 170,\n",
       " 55: 175,\n",
       " 56: 176,\n",
       " 57: 180,\n",
       " 58: 183,\n",
       " 59: 185,\n",
       " 60: 188,\n",
       " 61: 192,\n",
       " 62: 193,\n",
       " 63: 197,\n",
       " 64: 200,\n",
       " 65: 205,\n",
       " 66: 210,\n",
       " 67: 211,\n",
       " 68: 215,\n",
       " 69: 218,\n",
       " 70: 220,\n",
       " 71: 223,\n",
       " 72: 227,\n",
       " 73: 228,\n",
       " 74: 232,\n",
       " 75: 235,\n",
       " 76: 240,\n",
       " 77: 245,\n",
       " 78: 246,\n",
       " 79: 250,\n",
       " 80: 253,\n",
       " 81: 255,\n",
       " 82: 258,\n",
       " 83: 262,\n",
       " 84: 263,\n",
       " 85: 267,\n",
       " 86: 270,\n",
       " 87: 275,\n",
       " 88: 280,\n",
       " 89: 281,\n",
       " 90: 285,\n",
       " 91: 288,\n",
       " 92: 290,\n",
       " 93: 293,\n",
       " 94: 297,\n",
       " 95: 298,\n",
       " 96: 302,\n",
       " 97: 305,\n",
       " 98: 310,\n",
       " 99: 315,\n",
       " 100: 316}"
      ]
     },
     "execution_count": 30,
     "metadata": {},
     "output_type": "execute_result"
    }
   ],
   "source": [
    "memo.already_computted"
   ]
  },
  {
   "cell_type": "code",
   "execution_count": 31,
   "metadata": {},
   "outputs": [
    {
     "data": {
      "text/plain": [
       "{1: (1, 0),\n",
       " 2: (2, 0),\n",
       " 3: (3, 0),\n",
       " 4: (2, 2),\n",
       " 5: (3, 2),\n",
       " 6: (6, 0),\n",
       " 7: (6, 1),\n",
       " 8: (6, 2),\n",
       " 9: (6, 3),\n",
       " 10: (10, 0),\n",
       " 11: (11, 0),\n",
       " 12: (11, 1),\n",
       " 13: (11, 2),\n",
       " 14: (11, 3),\n",
       " 15: (13, 2),\n",
       " 16: (14, 2),\n",
       " 17: (11, 6),\n",
       " 18: (17, 1),\n",
       " 19: (17, 2),\n",
       " 20: (17, 3),\n",
       " 21: (11, 10),\n",
       " 22: (11, 11),\n",
       " 23: (22, 1),\n",
       " 24: (22, 2),\n",
       " 25: (22, 3),\n",
       " 26: (24, 2),\n",
       " 27: (25, 2),\n",
       " 28: (22, 6),\n",
       " 29: (28, 1),\n",
       " 30: (28, 2),\n",
       " 31: (28, 3),\n",
       " 32: (22, 10),\n",
       " 33: (22, 11),\n",
       " 34: (33, 1),\n",
       " 35: (33, 2),\n",
       " 36: (33, 3),\n",
       " 37: (35, 2),\n",
       " 38: (36, 2),\n",
       " 39: (33, 6),\n",
       " 40: (39, 1),\n",
       " 41: (39, 2),\n",
       " 42: (39, 3),\n",
       " 43: (33, 10),\n",
       " 44: (33, 11),\n",
       " 45: (44, 1),\n",
       " 46: (44, 2),\n",
       " 47: (44, 3),\n",
       " 48: (46, 2),\n",
       " 49: (47, 2),\n",
       " 50: (44, 6),\n",
       " 51: (50, 1),\n",
       " 52: (50, 2),\n",
       " 53: (50, 3),\n",
       " 54: (44, 10),\n",
       " 55: (44, 11),\n",
       " 56: (55, 1),\n",
       " 57: (55, 2),\n",
       " 58: (55, 3),\n",
       " 59: (57, 2),\n",
       " 60: (58, 2),\n",
       " 61: (55, 6),\n",
       " 62: (61, 1),\n",
       " 63: (61, 2),\n",
       " 64: (61, 3),\n",
       " 65: (55, 10),\n",
       " 66: (55, 11),\n",
       " 67: (66, 1),\n",
       " 68: (66, 2),\n",
       " 69: (66, 3),\n",
       " 70: (68, 2),\n",
       " 71: (69, 2),\n",
       " 72: (66, 6),\n",
       " 73: (72, 1),\n",
       " 74: (72, 2),\n",
       " 75: (72, 3),\n",
       " 76: (66, 10),\n",
       " 77: (66, 11),\n",
       " 78: (77, 1),\n",
       " 79: (77, 2),\n",
       " 80: (77, 3),\n",
       " 81: (79, 2),\n",
       " 82: (80, 2),\n",
       " 83: (77, 6),\n",
       " 84: (83, 1),\n",
       " 85: (83, 2),\n",
       " 86: (83, 3),\n",
       " 87: (77, 10),\n",
       " 88: (77, 11),\n",
       " 89: (88, 1),\n",
       " 90: (88, 2),\n",
       " 91: (88, 3),\n",
       " 92: (90, 2),\n",
       " 93: (91, 2),\n",
       " 94: (88, 6),\n",
       " 95: (94, 1),\n",
       " 96: (94, 2),\n",
       " 97: (94, 3),\n",
       " 98: (88, 10),\n",
       " 99: (88, 11),\n",
       " 100: (99, 1)}"
      ]
     },
     "execution_count": 31,
     "metadata": {},
     "output_type": "execute_result"
    }
   ],
   "source": [
    "solution"
   ]
  },
  {
   "cell_type": "code",
   "execution_count": 32,
   "metadata": {},
   "outputs": [],
   "source": [
    "def parse_solution(n):\n",
    "    \n",
    "    left_split, right_split = solution[n]\n",
    "    \n",
    "    if right_split == 0:\n",
    "        return [left_split]\n",
    "    \n",
    "    return parse_solution(left_split) + parse_solution(right_split)"
   ]
  },
  {
   "cell_type": "code",
   "execution_count": 33,
   "metadata": {},
   "outputs": [
    {
     "data": {
      "text/plain": [
       "[11, 6, 3]"
      ]
     },
     "execution_count": 33,
     "metadata": {},
     "output_type": "execute_result"
    }
   ],
   "source": [
    "parse_solution(20)"
   ]
  },
  {
   "cell_type": "markdown",
   "metadata": {},
   "source": [
    "## Part 2: Change loss function from $loss = \\frac{1}{n}\\sum{(y_i - \\hat(y_i))^2}$ to $loss = \\frac{1}{n}\\sum{|y_i - \\hat{y_i}|}$, and using your mathmatical knowledge to get the right partial formual. Implemen the gradient descent code."
   ]
  },
  {
   "cell_type": "code",
   "execution_count": 45,
   "metadata": {},
   "outputs": [],
   "source": [
    "def loss_abs(y, y_hat):\n",
    "    \"\"\"\n",
    "    :param y: the real fares\n",
    "    :param y_hat: the estimated fares\n",
    "    :return: how good is the estimated fares\n",
    "    \"\"\"\n",
    "    return sum(abs(y_i - y_hat_i) for y_i, y_hat_i in zip(list(y), list(y_hat))) / len(list(y))"
   ]
  },
  {
   "cell_type": "code",
   "execution_count": 46,
   "metadata": {},
   "outputs": [],
   "source": [
    "def partial_k_abs(X, y, y_hat):\n",
    "    n = len(y)\n",
    "\n",
    "    gradient = 0\n",
    "    \n",
    "    for X_i, y_i, y_hat_i in zip(list(X), list(y), list(y_hat)):\n",
    "        if y_i - y_hat_i > 0:\n",
    "            gradient += -1 * X_i    \n",
    "        elif y_i - y_hat_i < 0:\n",
    "            gradient += X_i\n",
    "        else:\n",
    "            pass\n",
    "    \n",
    "    return 1 / n * gradient\n",
    "\n",
    "def partial_b_abs(X, y, y_hat):\n",
    "    n = len(y)\n",
    "\n",
    "    gradient = 0\n",
    "    \n",
    "    for y_i, y_hat_i in zip(list(y), list(y_hat)):\n",
    "        gradient += (y_i - y_hat_i)\n",
    "        if y_i - y_hat_i > 0:\n",
    "            gradient -= 1   \n",
    "        elif y_i - y_hat_i < 0:\n",
    "            gradient += 1\n",
    "        else:\n",
    "            pass\n",
    "    \n",
    "    return 1 / n * gradient"
   ]
  },
  {
   "cell_type": "code",
   "execution_count": 47,
   "metadata": {},
   "outputs": [
    {
     "name": "stdout",
     "output_type": "stream",
     "text": [
      "When time is : 0, get best_k: -4.164526906494132 best_b: 84.93108494026086, and the loss is: 36.236506014018865\n",
      "When time is : 100, get best_k: -4.226459258272811 best_b: 85.2832629977195, and the loss is: 36.201392303303784\n",
      "When time is : 200, get best_k: -4.288285681197749 best_b: 85.6350871105382, and the loss is: 36.16679393152863\n",
      "When time is : 300, get best_k: -4.349898940091056 best_b: 85.98657214565213, and the loss is: 36.13359161874268\n",
      "When time is : 400, get best_k: -4.411397418351947 best_b: 86.33771797594206, and the loss is: 36.100979453460305\n",
      "When time is : 500, get best_k: -4.472895896612838 best_b: 86.68850855448623, and the loss is: 36.06801765306062\n",
      "When time is : 600, get best_k: -4.534394374873728 best_b: 87.03894031112469, and the loss is: 36.034702703828856\n",
      "When time is : 700, get best_k: -4.595879575664264 best_b: 87.3890112336008, and the loss is: 36.00114268070465\n",
      "When time is : 800, get best_k: -4.657046117166275 best_b: 87.73876542867262, and the loss is: 35.96985015760246\n",
      "When time is : 900, get best_k: -4.718212658668286 best_b: 88.08817135114684, and the loss is: 35.93821624476026\n",
      "When time is : 1000, get best_k: -4.779379200170298 best_b: 88.43722550100154, and the loss is: 35.90623751132665\n",
      "When time is : 1100, get best_k: -4.840317106099179 best_b: 88.78595801568835, and the loss is: 35.87574178472728\n",
      "When time is : 1200, get best_k: -4.901166098194065 best_b: 89.13436239081489, and the loss is: 35.845623621606826\n",
      "When time is : 1300, get best_k: -4.9620150902889515 best_b: 89.48242498403849, and the loss is: 35.815171782083084\n",
      "When time is : 1400, get best_k: -5.022864082383838 best_b: 89.83014236056654, and the loss is: 35.784382912820966\n",
      "When time is : 1500, get best_k: -5.083082806494511 best_b: 90.1776057708482, and the loss is: 35.75822625786522\n",
      "When time is : 1600, get best_k: -5.142979268945082 best_b: 90.52481192501294, and the loss is: 35.734322583555446\n",
      "When time is : 1700, get best_k: -5.202626719537976 best_b: 90.87176235928628, and the loss is: 35.71205477927319\n",
      "When time is : 1800, get best_k: -5.262211917166452 best_b: 91.2184437809259, and the loss is: 35.689993800280725\n",
      "When time is : 1900, get best_k: -5.32151544641544 best_b: 91.5648900450892, and the loss is: 35.66981175717879\n"
     ]
    }
   ],
   "source": [
    "X_rm = X[:, 5]\n",
    "\n",
    "min_loss = float('inf')\n",
    "\n",
    "current_k = random.random() * 200 - 100\n",
    "current_b = random.random() * 200 - 100\n",
    "\n",
    "learning_rate = 1e-04\n",
    "\n",
    "trying_times = 2000\n",
    "\n",
    "for i in range(trying_times):\n",
    "    price_by_k_and_b = [price(r, current_k, current_b) for r in X_rm]\n",
    "    \n",
    "    current_loss = loss_abs(y, price_by_k_and_b)\n",
    "    \n",
    "    if current_loss < min_loss:  # performance became better\n",
    "        min_loss = current_loss\n",
    "        \n",
    "    if i % 100 == 0:\n",
    "        print('When time is : {}, get best_k: {} best_b: {}, and the loss is: {}'.format(i, current_k, current_b, min_loss))\n",
    "    \n",
    "    k_gradient = partial_k_abs(X_rm, y, price_by_k_and_b)\n",
    "    b_gradient = partial_b_abs(X_rm, y, price_by_k_and_b)\n",
    "    \n",
    "    current_k = current_k + (-1 * k_gradient) * learning_rate\n",
    "    current_b = current_b + (-1 * b_gradient) * learning_rate"
   ]
  },
  {
   "cell_type": "code",
   "execution_count": 48,
   "metadata": {},
   "outputs": [
    {
     "data": {
      "text/plain": [
       "<matplotlib.collections.PathCollection at 0x11a20f8d0>"
      ]
     },
     "execution_count": 48,
     "metadata": {},
     "output_type": "execute_result"
    },
    {
     "data": {
      "image/png": "[encoded data removed]",
      "text/plain": [
       "<Figure size 432x288 with 1 Axes>"
      ]
     },
     "metadata": {},
     "output_type": "display_data"
    }
   ],
   "source": [
    "k = -5.32151544641544\n",
    "b = 91.5648900450892\n",
    "price_by_k_and_b = [price(r, k, b) for r in X_rm]\n",
    "\n",
    "draw_rm_and_price()\n",
    "plt.scatter(X_rm, price_by_k_and_b)"
   ]
  },
  {
   "cell_type": "markdown",
   "metadata": {},
   "source": [
    "感觉好像不太对？？？"
   ]
  },
  {
   "cell_type": "markdown",
   "metadata": {},
   "source": [
    "## Part 3: Finish the Solution Parse Part of Edit-Distance"
   ]
  },
  {
   "cell_type": "code",
   "execution_count": 49,
   "metadata": {},
   "outputs": [],
   "source": [
    "solution = {}"
   ]
  },
  {
   "cell_type": "code",
   "execution_count": 50,
   "metadata": {},
   "outputs": [],
   "source": [
    "from functools import lru_cache\n",
    "\n",
    "@lru_cache(maxsize=2**10)\n",
    "def edit_distance(string1, string2):\n",
    "    \n",
    "    if len(string1) == 0: return len(string2)\n",
    "    if len(string2) == 0: return len(string1)\n",
    "    \n",
    "    tail_s1 = string1[-1]\n",
    "    tail_s2 = string2[-1]\n",
    "    \n",
    "    candidates = [\n",
    "        (edit_distance(string1[:-1], string2) + 1, 'DEL {}'.format(tail_s1)),  # string 1 delete tail\n",
    "        (edit_distance(string1, string2[:-1]) + 1, 'ADD {}'.format(tail_s2)),  # string 1 add tail of string2\n",
    "    ]\n",
    "    \n",
    "    if tail_s1 == tail_s2:\n",
    "        both_forward = (edit_distance(string1[:-1], string2[:-1]) + 0, '')\n",
    "    else:\n",
    "        both_forward = (edit_distance(string1[:-1], string2[:-1]) + 1, 'SUB {} => {}'.format(tail_s1, tail_s2))\n",
    "\n",
    "    candidates.append(both_forward)\n",
    "    print(candidates)\n",
    "    min_distance, operation = min(candidates, key=lambda x: x[0])\n",
    "    \n",
    "    solution[(string1, string2)] = operation \n",
    "    \n",
    "    return min_distance"
   ]
  },
  {
   "cell_type": "code",
   "execution_count": 51,
   "metadata": {},
   "outputs": [],
   "source": [
    "def parse_solution_ed(n):\n",
    "    \n",
    "    pass\n",
    "# I have no idea."
   ]
  },
  {
   "cell_type": "markdown",
   "metadata": {},
   "source": [
    "### Part 5-1: Review machine learning"
   ]
  },
  {
   "cell_type": "markdown",
   "metadata": {},
   "source": [
    "#### 1. Why do we use Derivative / Gredient to fit a target function?"
   ]
  },
  {
   "cell_type": "markdown",
   "metadata": {},
   "source": [
    "Ans:\n",
    "\n",
    "使用梯度下降可以对权值进行小范围的迭代更新，然而小范围更新的方向为损失函数对权值选择点的导数负方向，这样就能保证损失函数逐渐取得最小值。"
   ]
  },
  {
   "cell_type": "markdown",
   "metadata": {},
   "source": [
    "#### 2. In the words 'Gredient Descent', what's the Gredient and what's the Descent?"
   ]
  },
  {
   "cell_type": "markdown",
   "metadata": {},
   "source": [
    "Ans:\n",
    "\n",
    "梯度的本意是一个向量（矢量），表示某一函数在该点处的方向导数沿着该方向取得最大值，即函数在该点处沿着该方向（此梯度的方向）变化最快，变化率最大（为该梯度的模）。\n",
    "\n",
    "梯度下降：让梯度中所有偏导函数都下降到最低点的过程。"
   ]
  },
  {
   "cell_type": "markdown",
   "metadata": {},
   "source": [
    "#### 3. What's the advantages of the 3rd gradient descent method compared to the previous methods?"
   ]
  },
  {
   "cell_type": "markdown",
   "metadata": {},
   "source": [
    "Ans:\n",
    "\n",
    "第一种方法：在一定范围内，任意选择k和b的值带入到损失函数中，哪个损失函数值最小就取谁。有着很强的随机性。\n",
    "\n",
    "第二种方法：随机初始化k和b的值，选取四个方向，带入损失函数中，如果loss变小，则选取该方向。虽然可以逐步降低loss，但是方向的选择仍然带有随机性。\n",
    "\n",
    "第三种方法：随机初始化k和b的值，采用梯度下降方法，实际上降低loss的小方向是被确定了。"
   ]
  },
  {
   "cell_type": "markdown",
   "metadata": {},
   "source": [
    "#### 4. Using the simple words to describe: What's the machine leanring."
   ]
  },
  {
   "cell_type": "markdown",
   "metadata": {},
   "source": [
    "Ans:\n",
    "\n",
    "简单的说，机器学习就是试图找到一个函数的方法，这个函数可以拟合训练数据、测试数据和新数据。"
   ]
  },
  {
   "cell_type": "markdown",
   "metadata": {},
   "source": [
    "## Part 5-2: Answer following questions: "
   ]
  },
  {
   "cell_type": "markdown",
   "metadata": {},
   "source": [
    "#### 1. Why do we need dynamic programming? What's the difference of dynamic programming and previous talked `search` problem? "
   ]
  },
  {
   "cell_type": "markdown",
   "metadata": {},
   "source": [
    "Ans:\n",
    "\n",
    "动态规划是帮助我们解决一些有着重复的子问题的一种方法。\n",
    "\n",
    "而搜索问题可能需要遍历所有的子情况才可能得出结果。"
   ]
  },
  {
   "cell_type": "markdown",
   "metadata": {},
   "source": [
    "#### 2. Why do we still need dynamic programming? Why not we train a machine learning to fit a function which could get the `right` answer based on inputs?"
   ]
  },
  {
   "cell_type": "markdown",
   "metadata": {},
   "source": [
    "Ans:\n",
    "\n",
    "动态规划可以为我们解决一些规模始终且不是很大的一些问题。\n",
    "\n",
    "这时候，如果使用机器学习来解决这些问题，似乎有种杀鸡焉用牛刀的感觉。\n",
    "\n",
    "还有一个前提在于，机器学习需要一定规模的数据量，才能有效地解决问题。"
   ]
  },
  {
   "cell_type": "markdown",
   "metadata": {},
   "source": [
    "#### 3. Can you catch up at least 3 problems which could solved by Dynamic Programming? "
   ]
  },
  {
   "cell_type": "markdown",
   "metadata": {},
   "source": [
    "Ans:\n",
    "\n",
    "1.背包问题\n",
    "2.最长公共子序列\n",
    "3.最短路径问题"
   ]
  },
  {
   "cell_type": "markdown",
   "metadata": {},
   "source": [
    "#### 4. Can you catch up at least 3 problems wich could sloved by Edit Distance? "
   ]
  },
  {
   "cell_type": "markdown",
   "metadata": {},
   "source": [
    "Ans:\n",
    "\n",
    "1.DNA分析\n",
    "2.拼字检查\n",
    "3.语音辨识\n",
    "4.抄袭侦测\n",
    "5.相似度计算"
   ]
  },
  {
   "cell_type": "markdown",
   "metadata": {},
   "source": [
    "#### 5. Please summarize the three main features of Dynamic Programming, and make a concise explain for each feature. "
   ]
  },
  {
   "cell_type": "markdown",
   "metadata": {},
   "source": [
    "Ans:\n",
    "\n",
    "任何思想方法都有一定的局限性，超出了特定条件，它就失去了作用。同样，动态规划也并不是万能的。适用动态规划的问题必须满足最优化原理和无后效性。\n",
    "\n",
    "1.最优化原理（最优子结构性质）：一个最优化策略具有这样的性质，不论过去状态和决策如何，对前面的决策所形成的状态而言，余下的诸决策必须构成最优策略。简而言之，一个最优化策略的子策略总是最优的。一个问题满足最优化原理又称其具有最优子结构性质。\n",
    "\n",
    "2.无后效性：是将各阶段按照一定的次序排列好之后，对于某个给定的阶段状态，它以前各阶段的状态无法直接影响它未来的决策，而只能通过当前的这个状态。换句话说，每个状态都是过去历史的一个完整总结。又称无后向性。\n",
    "\n",
    "3.子问题的重叠性：动态规划将原来具有指数级时间复杂度的搜索算法改进成了具有多项式时间复杂度的算法。其中的关键在于解决冗余，这是动态规划算法的根本目的。动态规划实质上是一种以空间换时间的技术，它在实现的过程中，不得不存储产生过程中的各种状态，所以它的空间复杂度要大于其它的算法。"
   ]
  },
  {
   "cell_type": "markdown",
   "metadata": {},
   "source": [
    "#### 6. What's the disadvantages of Dynamic Programming? (You may need search by yourself in Internet)"
   ]
  },
  {
   "cell_type": "markdown",
   "metadata": {},
   "source": [
    "Ans:\n",
    "\n",
    "1.没有统一的标准模型。\n",
    "\n",
    "2.数值方法求解时存在维数灾难。"
   ]
  },
  {
   "cell_type": "markdown",
   "metadata": {},
   "source": [
    "## Part 6 Preparation of Project-01"
   ]
  },
  {
   "cell_type": "markdown",
   "metadata": {},
   "source": [
    "1. Using python Flask or Bottle to finish your first simple web app:\n",
    "> https://bottlepy.org/\n",
    "\n",
    "2. Learn what's the SQL, and try some simple SQL operations:\n",
    "> https://www.w3schools.com/sql/sql_intro.asp\n",
    "\n",
    "3. Learn what's the HTML ( *ONLY* need to know the basic things)\n",
    "> https://getbootstrap.com/; https://www.w3schools.com/html/"
   ]
  },
  {
   "cell_type": "markdown",
   "metadata": {},
   "source": [
    "### (Optinal) Finish the k-person-salesman problem:"
   ]
  },
  {
   "cell_type": "code",
   "execution_count": 52,
   "metadata": {},
   "outputs": [],
   "source": [
    "import random"
   ]
  },
  {
   "cell_type": "code",
   "execution_count": 53,
   "metadata": {},
   "outputs": [],
   "source": [
    "latitudes = [random.randint(-100, 100) for _ in range(20)]\n",
    "longitude = [random.randint(-100, 100) for _ in range(20)]"
   ]
  },
  {
   "cell_type": "code",
   "execution_count": 54,
   "metadata": {},
   "outputs": [
    {
     "data": {
      "text/plain": [
       "<matplotlib.collections.PathCollection at 0x11a3be908>"
      ]
     },
     "execution_count": 54,
     "metadata": {},
     "output_type": "execute_result"
    },
    {
     "data": {
      "image/png": "[encoded data removed]",
      "text/plain": [
       "<Figure size 432x288 with 1 Axes>"
      ]
     },
     "metadata": {},
     "output_type": "display_data"
    }
   ],
   "source": [
    "plt.scatter(latitudes, longitude)"
   ]
  },
  {
   "cell_type": "markdown",
   "metadata": {},
   "source": [
    "给定一个初始点 𝑃, 已经 𝑘个车辆，如何从该点出发，经这 k 个车辆经过所以的点全部一次，而且所走过的路程最短?\n",
    "\n",
    "例如："
   ]
  },
  {
   "cell_type": "code",
   "execution_count": 55,
   "metadata": {},
   "outputs": [],
   "source": [
    "chosen_p = (-50, 10)\n",
    "chosen_p2 = (1, 30)\n",
    "chosen_p3 = (99, 15)"
   ]
  },
  {
   "cell_type": "code",
   "execution_count": 56,
   "metadata": {},
   "outputs": [
    {
     "data": {
      "text/plain": [
       "<matplotlib.collections.PathCollection at 0x11a3345c0>"
      ]
     },
     "execution_count": 56,
     "metadata": {},
     "output_type": "execute_result"
    },
    {
     "data": {
      "image/png": "[encoded data removed]",
      "text/plain": [
       "<Figure size 432x288 with 1 Axes>"
      ]
     },
     "metadata": {},
     "output_type": "display_data"
    }
   ],
   "source": [
    "plt.scatter(latitudes, longitude)\n",
    "plt.scatter([chosen_p[0]], [chosen_p[1]], color='r')\n",
    "plt.scatter([chosen_p2[0]], [chosen_p2[1]], color='r')\n",
    "plt.scatter([chosen_p3[0]], [chosen_p3[1]], color='r')"
   ]
  },
  {
   "cell_type": "code",
   "execution_count": 57,
   "metadata": {},
   "outputs": [],
   "source": [
    "points = {}\n",
    "points[0] = chosen_p\n",
    "for i, (lat, long) in enumerate(zip(latitudes, longitude), start=1):\n",
    "    points[i] = (lat, long)"
   ]
  },
  {
   "cell_type": "code",
   "execution_count": 58,
   "metadata": {},
   "outputs": [
    {
     "data": {
      "text/plain": [
       "{0: (-50, 10),\n",
       " 1: (88, -56),\n",
       " 2: (-47, 30),\n",
       " 3: (92, -24),\n",
       " 4: (72, 80),\n",
       " 5: (4, -77),\n",
       " 6: (-71, -34),\n",
       " 7: (59, 0),\n",
       " 8: (90, 52),\n",
       " 9: (82, -15),\n",
       " 10: (-90, 95),\n",
       " 11: (79, 28),\n",
       " 12: (-20, 19),\n",
       " 13: (-57, -100),\n",
       " 14: (-70, -83),\n",
       " 15: (74, -70),\n",
       " 16: (-74, 99),\n",
       " 17: (-3, -31),\n",
       " 18: (-46, 2),\n",
       " 19: (40, -74),\n",
       " 20: (-44, -15)}"
      ]
     },
     "execution_count": 58,
     "metadata": {},
     "output_type": "execute_result"
    }
   ],
   "source": [
    "points"
   ]
  },
  {
   "cell_type": "code",
   "execution_count": 59,
   "metadata": {},
   "outputs": [],
   "source": [
    "import math\n",
    "\n",
    "def get_distance(p1, p2):\n",
    "    \n",
    "    lat1, lon1 = points[p1]\n",
    "    lat2, lon2 = points[p2]\n",
    "    \n",
    "    radius = 6371  # km\n",
    "\n",
    "    dlat = math.radians(lat2 - lat1)\n",
    "    dlon = math.radians(lon2 - lon1)\n",
    "    a = (math.sin(dlat / 2) * math.sin(dlat / 2) +\n",
    "         math.cos(math.radians(lat1)) * math.cos(math.radians(lat2)) *\n",
    "         math.sin(dlon / 2) * math.sin(dlon / 2))\n",
    "    c = 2 * math.atan2(math.sqrt(a), math.sqrt(1 - a))\n",
    "    d = radius * c\n",
    "\n",
    "    return d"
   ]
  },
  {
   "cell_type": "code",
   "execution_count": 60,
   "metadata": {},
   "outputs": [
    {
     "data": {
      "text/plain": [
       "15473.055845055867"
      ]
     },
     "execution_count": 60,
     "metadata": {},
     "output_type": "execute_result"
    }
   ],
   "source": [
    "get_distance(0, 1)"
   ]
  },
  {
   "cell_type": "code",
   "execution_count": 61,
   "metadata": {},
   "outputs": [],
   "source": [
    "def walk_shortest(start):\n",
    "    \n",
    "    visited = [start]\n",
    "    \n",
    "    seen = set()\n",
    "    seen.add(start)\n",
    "    while len(points) != len(seen):\n",
    "        \n",
    "        short = (_, float('inf'))\n",
    "        for k, v in points.items():\n",
    "            \n",
    "            if k in seen:\n",
    "                continue\n",
    "\n",
    "            d = get_distance(start, k)\n",
    "            if d < short[1]:\n",
    "                short = (k, d)\n",
    "                \n",
    "        visited += [short[0]]\n",
    "        start = short[0]\n",
    "        seen.add(short[0])\n",
    "    \n",
    "    return visited"
   ]
  },
  {
   "cell_type": "code",
   "execution_count": 62,
   "metadata": {},
   "outputs": [],
   "source": [
    "v1 = walk_shortest(start=0)"
   ]
  },
  {
   "cell_type": "code",
   "execution_count": 63,
   "metadata": {},
   "outputs": [
    {
     "data": {
      "text/plain": [
       "[0, 18, 20, 6, 14, 13, 10, 16, 2, 12, 17, 5, 19, 15, 9, 1, 8, 3, 11, 4, 7]"
      ]
     },
     "execution_count": 63,
     "metadata": {},
     "output_type": "execute_result"
    }
   ],
   "source": [
    "v1"
   ]
  },
  {
   "cell_type": "code",
   "execution_count": 64,
   "metadata": {},
   "outputs": [
    {
     "data": {
      "image/png": "[encoded data removed]",
      "text/plain": [
       "<Figure size 432x288 with 1 Axes>"
      ]
     },
     "metadata": {},
     "output_type": "display_data"
    }
   ],
   "source": [
    "plt.scatter(latitudes, longitude)\n",
    "plt.scatter([chosen_p[0]], [chosen_p[1]], color='r')\n",
    "for i in range(len(v1)-1):\n",
    "    plt.plot((points[v1[i]][0], points[v1[i+1]][0]), (points[v1[i]][1], points[v1[i+1]][1]), color='r')"
   ]
  },
  {
   "cell_type": "markdown",
   "metadata": {},
   "source": [
    "# Question"
   ]
  },
  {
   "cell_type": "markdown",
   "metadata": {},
   "source": [
    "Part 2感觉写得不对，不知道是不是求导求错了。\n",
    "\n",
    "Part 3也没有思路。\n",
    "\n",
    "Optinal的最短路径也不对，是按当前点的最近距离计算的。"
   ]
  }
 ],
 "metadata": {
  "kernelspec": {
   "display_name": "Python 3",
   "language": "python",
   "name": "python3"
  },
  "language_info": {
   "codemirror_mode": {
    "name": "ipython",
    "version": 3
   },
   "file_extension": ".py",
   "mimetype": "text/x-python",
   "name": "python",
   "nbconvert_exporter": "python",
   "pygments_lexer": "ipython3",
   "version": "3.6.5"
  }
 },
 "nbformat": 4,
 "nbformat_minor": 2
}
